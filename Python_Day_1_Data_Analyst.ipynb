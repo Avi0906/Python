{
  "nbformat": 4,
  "nbformat_minor": 0,
  "metadata": {
    "colab": {
      "provenance": [],
      "collapsed_sections": [],
      "authorship_tag": "ABX9TyOTkveCfiefi3GDzv5hKPOz",
      "include_colab_link": true
    },
    "kernelspec": {
      "name": "python3",
      "display_name": "Python 3"
    },
    "language_info": {
      "name": "python"
    }
  },
  "cells": [
    {
      "cell_type": "markdown",
      "metadata": {
        "id": "view-in-github",
        "colab_type": "text"
      },
      "source": [
        "<a href=\"https://colab.research.google.com/github/Avi0906/Python/blob/main/Python_Day_1_Data_Analyst.ipynb\" target=\"_parent\"><img src=\"https://colab.research.google.com/assets/colab-badge.svg\" alt=\"Open In Colab\"/></a>"
      ]
    },
    {
      "cell_type": "markdown",
      "source": [
        "1st Day of Python Class"
      ],
      "metadata": {
        "id": "P7F6ETYR_ltg"
      }
    },
    {
      "cell_type": "code",
      "execution_count": 1,
      "metadata": {
        "colab": {
          "base_uri": "https://localhost:8080/"
        },
        "id": "rBd77qXF4VG4",
        "outputId": "702ed1fc-caed-4917-b1bc-2825fe287ecc"
      },
      "outputs": [
        {
          "output_type": "stream",
          "name": "stdout",
          "text": [
            "Hello World\n"
          ]
        }
      ],
      "source": [
        "print(\"Hello World\")"
      ]
    },
    {
      "cell_type": "code",
      "source": [
        "#[]- Used for list,dataframes, data extraction\n",
        "#()- Funtions\n",
        "#{}- Dictionaries & sets"
      ],
      "metadata": {
        "id": "KD8eL-s66Xz6"
      },
      "execution_count": null,
      "outputs": []
    },
    {
      "cell_type": "code",
      "source": [
        "#Enter - Goes to the next line within same cells/code block\n",
        "#Ctrl + Enter - It Executes this block & does not create a new block\n",
        "#Shift + Enter - It Executes this block & goes to the next block\n",
        "#Alt + Enter - It Executes this block & creates a new block"
      ],
      "metadata": {
        "id": "s0kohliv8seO"
      },
      "execution_count": 5,
      "outputs": []
    },
    {
      "cell_type": "code",
      "source": [
        "#ipynb - Interactive Python Note Book - Same for Colab or Jupyter Notebook\n",
        "#is for comments"
      ],
      "metadata": {
        "id": "poYP6o25-Vqn"
      },
      "execution_count": 8,
      "outputs": []
    },
    {
      "cell_type": "code",
      "source": [
        "#Data Type Or variable Types\n",
        "\n",
        "#Integer - Int\n",
        "#Float/Double - Decimals - Float\n",
        "#String/Character - Alphabets - Str\n",
        "#Boolean/Logical - True or False - Bool"
      ],
      "metadata": {
        "id": "wNKJUIC6A6eR"
      },
      "execution_count": 9,
      "outputs": []
    },
    {
      "cell_type": "code",
      "source": [
        "x=2\n",
        "type(x)"
      ],
      "metadata": {
        "colab": {
          "base_uri": "https://localhost:8080/"
        },
        "id": "0PIxdeVUCIqv",
        "outputId": "6b59a3e7-c066-48ba-a783-48c600ec82cb"
      },
      "execution_count": 10,
      "outputs": [
        {
          "output_type": "execute_result",
          "data": {
            "text/plain": [
              "int"
            ]
          },
          "metadata": {},
          "execution_count": 10
        }
      ]
    },
    {
      "cell_type": "code",
      "source": [
        "x=20.5\n",
        "type(x)"
      ],
      "metadata": {
        "colab": {
          "base_uri": "https://localhost:8080/"
        },
        "id": "gG0YV5CRCPOy",
        "outputId": "260e8423-20ca-49e9-ccac-5a7cd4a4d07e"
      },
      "execution_count": 12,
      "outputs": [
        {
          "output_type": "execute_result",
          "data": {
            "text/plain": [
              "float"
            ]
          },
          "metadata": {},
          "execution_count": 12
        }
      ]
    },
    {
      "cell_type": "code",
      "source": [
        "x=\"Python\"\n",
        "type(x)"
      ],
      "metadata": {
        "colab": {
          "base_uri": "https://localhost:8080/"
        },
        "id": "xAqHRuGzCfGM",
        "outputId": "9086d4f9-150c-476e-acec-0b5b6f1cca76"
      },
      "execution_count": 15,
      "outputs": [
        {
          "output_type": "execute_result",
          "data": {
            "text/plain": [
              "str"
            ]
          },
          "metadata": {},
          "execution_count": 15
        }
      ]
    },
    {
      "cell_type": "code",
      "source": [
        "x= False\n",
        "type (x)"
      ],
      "metadata": {
        "colab": {
          "base_uri": "https://localhost:8080/"
        },
        "id": "bSOOTF4MCuTo",
        "outputId": "63d294aa-e6a1-4932-b066-13f8ed94847a"
      },
      "execution_count": 16,
      "outputs": [
        {
          "output_type": "execute_result",
          "data": {
            "text/plain": [
              "bool"
            ]
          },
          "metadata": {},
          "execution_count": 16
        }
      ]
    },
    {
      "cell_type": "code",
      "source": [
        "#Strings need to be define in \"\" or\"\"\n",
        "#Boolen must be always True or False"
      ],
      "metadata": {
        "id": "ChF0N6T1DJR4"
      },
      "execution_count": 17,
      "outputs": []
    },
    {
      "cell_type": "code",
      "source": [
        "x= True"
      ],
      "metadata": {
        "id": "E-ZIPBxtD7o5"
      },
      "execution_count": 18,
      "outputs": []
    },
    {
      "cell_type": "code",
      "source": [
        "x= False\n",
        "type(x)"
      ],
      "metadata": {
        "colab": {
          "base_uri": "https://localhost:8080/"
        },
        "id": "I4Fyab1zD_TA",
        "outputId": "473a727a-1aa6-43e7-ff89-30961f179f7c"
      },
      "execution_count": 19,
      "outputs": [
        {
          "output_type": "execute_result",
          "data": {
            "text/plain": [
              "bool"
            ]
          },
          "metadata": {},
          "execution_count": 19
        }
      ]
    },
    {
      "cell_type": "code",
      "source": [
        "import math"
      ],
      "metadata": {
        "id": "Jv06sRmsED58"
      },
      "execution_count": 21,
      "outputs": []
    },
    {
      "cell_type": "code",
      "source": [
        "math.sqrt (1024)"
      ],
      "metadata": {
        "colab": {
          "base_uri": "https://localhost:8080/"
        },
        "id": "gAgqJtkGEM5T",
        "outputId": "888581cf-f87d-49e7-aaee-a48aa6c74573"
      },
      "execution_count": 22,
      "outputs": [
        {
          "output_type": "execute_result",
          "data": {
            "text/plain": [
              "32.0"
            ]
          },
          "metadata": {},
          "execution_count": 22
        }
      ]
    },
    {
      "cell_type": "code",
      "source": [
        "#Hierarchy of codeing in python is package.<module - optional>.funtion()"
      ],
      "metadata": {
        "id": "kbgvzMcDEIuo"
      },
      "execution_count": 23,
      "outputs": []
    },
    {
      "cell_type": "code",
      "source": [
        "3>10"
      ],
      "metadata": {
        "colab": {
          "base_uri": "https://localhost:8080/"
        },
        "id": "OXTFwh3kGRKl",
        "outputId": "50eb9bbe-81ad-45f6-b8d8-ddf9e945b362"
      },
      "execution_count": 24,
      "outputs": [
        {
          "output_type": "execute_result",
          "data": {
            "text/plain": [
              "False"
            ]
          },
          "metadata": {},
          "execution_count": 24
        }
      ]
    },
    {
      "cell_type": "code",
      "source": [
        "test1 = 3>10\n",
        "test2 = 3>1"
      ],
      "metadata": {
        "id": "0dwG1BfhGTI6"
      },
      "execution_count": 25,
      "outputs": []
    },
    {
      "cell_type": "code",
      "source": [
        "test1|test2"
      ],
      "metadata": {
        "colab": {
          "base_uri": "https://localhost:8080/"
        },
        "id": "Mb9ea_XjGbaq",
        "outputId": "35f74a8f-f92b-436f-ca0a-e9b971eb57c5"
      },
      "execution_count": 26,
      "outputs": [
        {
          "output_type": "execute_result",
          "data": {
            "text/plain": [
              "True"
            ]
          },
          "metadata": {},
          "execution_count": 26
        }
      ]
    },
    {
      "cell_type": "code",
      "source": [
        "test1 & test2"
      ],
      "metadata": {
        "colab": {
          "base_uri": "https://localhost:8080/"
        },
        "id": "duSE-UxNGk1e",
        "outputId": "76c1cad6-c19c-48e4-cef8-c48fb8b8115b"
      },
      "execution_count": 27,
      "outputs": [
        {
          "output_type": "execute_result",
          "data": {
            "text/plain": [
              "False"
            ]
          },
          "metadata": {},
          "execution_count": 27
        }
      ]
    },
    {
      "cell_type": "code",
      "source": [
        "x= randn()\n",
        "result=none\n",
        "if x>1:\n",
        "  result =\"Greater than 1\"\n",
        "elif x>=-2:\n",
        "  result =\"Between -1 and 1\"\n",
        "  else:\n",
        "    result= \"less than 1\"\n",
        "    print(x)\n",
        "    print(result)   "
      ],
      "metadata": {
        "colab": {
          "base_uri": "https://localhost:8080/",
          "height": 130
        },
        "id": "nDdqG5KFGoR_",
        "outputId": "7944a98b-7b15-4fc6-8987-cdea42bd63d6"
      },
      "execution_count": 28,
      "outputs": [
        {
          "output_type": "error",
          "ename": "SyntaxError",
          "evalue": "ignored",
          "traceback": [
            "\u001b[0;36m  File \u001b[0;32m\"<ipython-input-28-36264c5aa863>\"\u001b[0;36m, line \u001b[0;32m7\u001b[0m\n\u001b[0;31m    else:\u001b[0m\n\u001b[0m       ^\u001b[0m\n\u001b[0;31mSyntaxError\u001b[0m\u001b[0;31m:\u001b[0m invalid syntax\n"
          ]
        }
      ]
    },
    {
      "cell_type": "code",
      "source": [],
      "metadata": {
        "id": "I15yTdsqPj-l"
      },
      "execution_count": null,
      "outputs": []
    }
  ]
}